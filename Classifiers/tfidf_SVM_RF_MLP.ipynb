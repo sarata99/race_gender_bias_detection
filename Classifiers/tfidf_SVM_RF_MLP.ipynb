{
 "cells": [
  {
   "cell_type": "code",
   "execution_count": 1,
   "id": "young-vertex",
   "metadata": {},
   "outputs": [],
   "source": [
    "import pandas as pd\n",
    "import numpy as np\n",
    "import os\n",
    "\n",
    "# Feature extraction\n",
    "from sklearn.feature_extraction.text import TfidfVectorizer\n",
    "\n",
    "# Train/Test splitting\n",
    "from sklearn import model_selection\n",
    "\n",
    "# Hyper-parameter tuning\n",
    "from sklearn.model_selection import RandomizedSearchCV,  GridSearchCV, cross_val_score\n",
    "\n",
    "# Classifiers\n",
    "from sklearn.svm import SVC\n",
    "from sklearn.ensemble import RandomForestClassifier\n",
    "from sklearn.neural_network import MLPClassifier\n",
    "\n",
    "# Classifier evaluation metrics\n",
    "from sklearn.metrics import accuracy_score, f1_score, precision_score, recall_score, make_scorer, confusion_matrix, classification_report\n",
    "\n",
    "# Print confusion matrix\n",
    "import seaborn as sns"
   ]
  },
  {
   "cell_type": "code",
   "execution_count": 2,
   "id": "operating-ozone",
   "metadata": {},
   "outputs": [],
   "source": [
    "# Get relevant file paths\n",
    "project_root = os.path.dirname(os.getcwd())\n",
    "fall_18_data_path = project_root + '/Data/Fall_2018/'\n",
    "fall_19_data_path = project_root + '/Data/Fall_2019/'"
   ]
  },
  {
   "cell_type": "code",
   "execution_count": 3,
   "id": "numeric-decision",
   "metadata": {},
   "outputs": [
    {
     "name": "stdout",
     "output_type": "stream",
     "text": [
      "(5039, 5)\n"
     ]
    },
    {
     "data": {
      "text/html": [
       "<div>\n",
       "<style scoped>\n",
       "    .dataframe tbody tr th:only-of-type {\n",
       "        vertical-align: middle;\n",
       "    }\n",
       "\n",
       "    .dataframe tbody tr th {\n",
       "        vertical-align: top;\n",
       "    }\n",
       "\n",
       "    .dataframe thead th {\n",
       "        text-align: right;\n",
       "    }\n",
       "</style>\n",
       "<table border=\"1\" class=\"dataframe\">\n",
       "  <thead>\n",
       "    <tr style=\"text-align: right;\">\n",
       "      <th></th>\n",
       "      <th>User ID</th>\n",
       "      <th>Sender Race</th>\n",
       "      <th>Sender Gender</th>\n",
       "      <th>Recipient Gender</th>\n",
       "      <th>Text</th>\n",
       "    </tr>\n",
       "  </thead>\n",
       "  <tbody>\n",
       "    <tr>\n",
       "      <th>0</th>\n",
       "      <td>42683026</td>\n",
       "      <td>WHITE</td>\n",
       "      <td>F</td>\n",
       "      <td>F</td>\n",
       "      <td>Hey @Katie Poteet I know you said we should em...</td>\n",
       "    </tr>\n",
       "    <tr>\n",
       "      <th>1</th>\n",
       "      <td>25501571</td>\n",
       "      <td>WHITE</td>\n",
       "      <td>F</td>\n",
       "      <td>F</td>\n",
       "      <td>@Mary Cassell I would email Dr. K anyway with ...</td>\n",
       "    </tr>\n",
       "    <tr>\n",
       "      <th>2</th>\n",
       "      <td>42683026</td>\n",
       "      <td>WHITE</td>\n",
       "      <td>F</td>\n",
       "      <td>F</td>\n",
       "      <td>Ok, thanks a lot. I have the email typed but w...</td>\n",
       "    </tr>\n",
       "    <tr>\n",
       "      <th>3</th>\n",
       "      <td>25501571</td>\n",
       "      <td>WHITE</td>\n",
       "      <td>F</td>\n",
       "      <td>F</td>\n",
       "      <td>Upstairs from our lecture hall</td>\n",
       "    </tr>\n",
       "    <tr>\n",
       "      <th>4</th>\n",
       "      <td>25501571</td>\n",
       "      <td>WHITE</td>\n",
       "      <td>F</td>\n",
       "      <td>F</td>\n",
       "      <td>Sherman 207!!!</td>\n",
       "    </tr>\n",
       "  </tbody>\n",
       "</table>\n",
       "</div>"
      ],
      "text/plain": [
       "    User ID Sender Race Sender Gender Recipient Gender  \\\n",
       "0  42683026       WHITE             F                F   \n",
       "1  25501571       WHITE             F                F   \n",
       "2  42683026       WHITE             F                F   \n",
       "3  25501571       WHITE             F                F   \n",
       "4  25501571       WHITE             F                F   \n",
       "\n",
       "                                                Text  \n",
       "0  Hey @Katie Poteet I know you said we should em...  \n",
       "1  @Mary Cassell I would email Dr. K anyway with ...  \n",
       "2  Ok, thanks a lot. I have the email typed but w...  \n",
       "3                     Upstairs from our lecture hall  \n",
       "4                                     Sherman 207!!!  "
      ]
     },
     "execution_count": 3,
     "metadata": {},
     "output_type": "execute_result"
    }
   ],
   "source": [
    "# Read in excel file with recipient gender hand labeled \n",
    "df_fall_18_messages = pd.read_excel(fall_18_data_path + 'FA18_messages_with_gender_recipients_hand_lableled.xlsx', index_col=0)\n",
    "print(df_fall_18_messages.shape)\n",
    "df_fall_18_messages.head()"
   ]
  },
  {
   "cell_type": "code",
   "execution_count": 4,
   "id": "adolescent-header",
   "metadata": {},
   "outputs": [
    {
     "name": "stdout",
     "output_type": "stream",
     "text": [
      "(4872, 6)\n"
     ]
    },
    {
     "data": {
      "text/html": [
       "<div>\n",
       "<style scoped>\n",
       "    .dataframe tbody tr th:only-of-type {\n",
       "        vertical-align: middle;\n",
       "    }\n",
       "\n",
       "    .dataframe tbody tr th {\n",
       "        vertical-align: top;\n",
       "    }\n",
       "\n",
       "    .dataframe thead th {\n",
       "        text-align: right;\n",
       "    }\n",
       "</style>\n",
       "<table border=\"1\" class=\"dataframe\">\n",
       "  <thead>\n",
       "    <tr style=\"text-align: right;\">\n",
       "      <th></th>\n",
       "      <th>User ID</th>\n",
       "      <th>Sender Race</th>\n",
       "      <th>Sender Gender</th>\n",
       "      <th>Recipient Gender</th>\n",
       "      <th>Text</th>\n",
       "      <th>Recipient Gender Encoded</th>\n",
       "    </tr>\n",
       "  </thead>\n",
       "  <tbody>\n",
       "    <tr>\n",
       "      <th>0</th>\n",
       "      <td>42683026</td>\n",
       "      <td>WHITE</td>\n",
       "      <td>F</td>\n",
       "      <td>F</td>\n",
       "      <td>Hey @Katie Poteet I know you said we should em...</td>\n",
       "      <td>1.0</td>\n",
       "    </tr>\n",
       "    <tr>\n",
       "      <th>1</th>\n",
       "      <td>25501571</td>\n",
       "      <td>WHITE</td>\n",
       "      <td>F</td>\n",
       "      <td>F</td>\n",
       "      <td>@Mary Cassell I would email Dr. K anyway with ...</td>\n",
       "      <td>1.0</td>\n",
       "    </tr>\n",
       "    <tr>\n",
       "      <th>2</th>\n",
       "      <td>42683026</td>\n",
       "      <td>WHITE</td>\n",
       "      <td>F</td>\n",
       "      <td>F</td>\n",
       "      <td>Ok, thanks a lot. I have the email typed but w...</td>\n",
       "      <td>1.0</td>\n",
       "    </tr>\n",
       "    <tr>\n",
       "      <th>3</th>\n",
       "      <td>25501571</td>\n",
       "      <td>WHITE</td>\n",
       "      <td>F</td>\n",
       "      <td>F</td>\n",
       "      <td>Upstairs from our lecture hall</td>\n",
       "      <td>1.0</td>\n",
       "    </tr>\n",
       "    <tr>\n",
       "      <th>4</th>\n",
       "      <td>25501571</td>\n",
       "      <td>WHITE</td>\n",
       "      <td>F</td>\n",
       "      <td>F</td>\n",
       "      <td>Sherman 207!!!</td>\n",
       "      <td>1.0</td>\n",
       "    </tr>\n",
       "  </tbody>\n",
       "</table>\n",
       "</div>"
      ],
      "text/plain": [
       "    User ID Sender Race Sender Gender Recipient Gender  \\\n",
       "0  42683026       WHITE             F                F   \n",
       "1  25501571       WHITE             F                F   \n",
       "2  42683026       WHITE             F                F   \n",
       "3  25501571       WHITE             F                F   \n",
       "4  25501571       WHITE             F                F   \n",
       "\n",
       "                                                Text  Recipient Gender Encoded  \n",
       "0  Hey @Katie Poteet I know you said we should em...                       1.0  \n",
       "1  @Mary Cassell I would email Dr. K anyway with ...                       1.0  \n",
       "2  Ok, thanks a lot. I have the email typed but w...                       1.0  \n",
       "3                     Upstairs from our lecture hall                       1.0  \n",
       "4                                     Sherman 207!!!                       1.0  "
      ]
     },
     "execution_count": 4,
     "metadata": {},
     "output_type": "execute_result"
    }
   ],
   "source": [
    "# Encode recipient gender char as int and create as new column in dataframe\n",
    "# Remove rows where recipient's gender is unknown\n",
    "male_val = 0\n",
    "female_val = 1\n",
    "neutral_val = 2\n",
    "\n",
    "def encode(c):\n",
    "    if (c == 'M'):\n",
    "        return male_val\n",
    "    elif (c == 'F'):\n",
    "        return female_val\n",
    "    elif (c == 'N'):\n",
    "        return neutral_val\n",
    "\n",
    "# Add column in dataframe for encoded gender\n",
    "df_fall_18_messages['Recipient Gender Encoded'] = [encode(x) for x in df_fall_18_messages['Recipient Gender']]\n",
    "# Drop nas (some genders were unknown in the dataset)\n",
    "df_fall_18_messages = df_fall_18_messages[df_fall_18_messages['Recipient Gender Encoded'].notna()]\n",
    "print(df_fall_18_messages.shape)\n",
    "df_fall_18_messages.head()"
   ]
  },
  {
   "cell_type": "code",
   "execution_count": 5,
   "id": "fantastic-diamond",
   "metadata": {},
   "outputs": [],
   "source": [
    "# Get feature vector X and target label y \n",
    "fa_18_message_array = df_fall_18_messages['Text'].values\n",
    "vectorizer = TfidfVectorizer()\n",
    "X = vectorizer.fit_transform(fa_18_message_array)\n",
    "y = df_fall_18_messages['Recipient Gender Encoded']"
   ]
  },
  {
   "cell_type": "code",
   "execution_count": 6,
   "id": "consistent-mystery",
   "metadata": {},
   "outputs": [
    {
     "name": "stdout",
     "output_type": "stream",
     "text": [
      "(4872,)\n",
      "2.0    2011\n",
      "1.0    1517\n",
      "0.0    1344\n",
      "Name: Recipient Gender Encoded, dtype: int64\n"
     ]
    }
   ],
   "source": [
    "# Print y shape and number of instances of each label\n",
    "print(y.shape)\n",
    "print(y.value_counts())"
   ]
  },
  {
   "cell_type": "code",
   "execution_count": 7,
   "id": "engaged-mistake",
   "metadata": {},
   "outputs": [
    {
     "name": "stdout",
     "output_type": "stream",
     "text": [
      "X_train: (3654, 4653)\n",
      "y_train: (3654,)\n",
      "X_test: (1218, 4653)\n",
      "y_test: (1218,)\n"
     ]
    }
   ],
   "source": [
    "# Split data into training and test sets (75:25 training testing ratio)\n",
    "X_train, X_test, y_train, y_test = model_selection.train_test_split(X, y, test_size=0.25, shuffle = True)\n",
    "print(\"X_train:\", X_train.shape)\n",
    "print(\"y_train:\", y_train.shape)\n",
    "print(\"X_test:\", X_test.shape)\n",
    "print(\"y_test:\", y_test.shape)"
   ]
  },
  {
   "cell_type": "code",
   "execution_count": 14,
   "id": "important-visitor",
   "metadata": {},
   "outputs": [],
   "source": [
    "def get_best_estimator(clf, params):\n",
    "    # Metrics to use for optimization\n",
    "    # metrics = ['accuracy','f1', 'f1_macro', 'f1_weighted','precision','recall']\n",
    "    \n",
    "    # Optimize based on f1_macro score\n",
    "    grid_search = GridSearchCV(clf, param_grid = params, cv = 10, n_jobs = -1, scoring = 'f1_macro', verbose=2)\n",
    "    grid_search.fit(X_train, y_train)\n",
    "    \n",
    "    # Get estimator with best parameter valuese\n",
    "    best_estimator = grid_search.best_estimator_\n",
    "    \n",
    "    # Print results\n",
    "    #print(\"Best parameters set found on training set:\\n\", grid_search.best_params_)\n",
    "    #print(\"Grid scores on training set:\\n\")\n",
    "    #print(grid_search.cv_results_)\n",
    "    print(best_estimator)\n",
    "    \n",
    "    # Return best_estimator\n",
    "    return best_estimator "
   ]
  },
  {
   "cell_type": "code",
   "execution_count": 9,
   "id": "tender-surgery",
   "metadata": {},
   "outputs": [],
   "source": [
    "def print_results(clf, y_pred):\n",
    "    # Print accuracy score \n",
    "    print(\"Accuracy Score -> \",accuracy_score(y_pred, y_test)*100)\n",
    "    \n",
    "    # Print confusion matrix (heat map)\n",
    "    sns.heatmap(confusion_matrix(y_test, y_pred), annot=True, fmt='g')\n",
    "    print(classification_report(y_test, y_pred))\n",
    "    \n",
    "    # Print avarage 10-fold cross validation accuracy and f1 scores \n",
    "    svm_cv_accuracy_score = cross_val_score(clf, X_train, y_train, cv=10,scoring='accuracy')\n",
    "    svm_cv_f1_score = cross_val_score(clf, X_train, y_train, cv=10,scoring='f1_macro')\n",
    "    print(\"Mean cv accuracy: \", svm_cv_accuracy_score.mean())\n",
    "    print(\"Mean cv f1_macro: \", svm_cv_f1_score.mean())"
   ]
  },
  {
   "cell_type": "code",
   "execution_count": 10,
   "id": "prepared-monthly",
   "metadata": {},
   "outputs": [],
   "source": [
    "def svm():\n",
    "    # Parameters to optimize for svm\n",
    "    param_grid = {'probability': [True],\n",
    "                  'C': [1, 10, 50, 100, 200, 500, 1000],\n",
    "                  'kernel': ['rbf', 'poly'],\n",
    "                  'gamma': ['auto', 'scale', 0.1, 0.01, 0.001, 0.0001],\n",
    "                 }\n",
    "    # Get optimized parameters from grid search\n",
    "    svm_clf = SVC(probability=True, kernel='rbf')\n",
    "    optimized_svm_clf = get_best_estimator(svm_clf, param_grid)\n",
    "    optimized_svm_clf.fit(X_train, y_train)\n",
    "    \n",
    "    # predict recipient gender and print prediction results\n",
    "    y_pred = optimized_svm_clf.predict(X_test)\n",
    "    print_results(optimized_svm_clf, y_pred)   "
   ]
  },
  {
   "cell_type": "code",
   "execution_count": 11,
   "id": "hearing-proof",
   "metadata": {},
   "outputs": [],
   "source": [
    "def random_forest():\n",
    "    # Parameters to optimize for rf\n",
    "    param_grid = {\n",
    "        'max_depth': [10, 50, 100, 500],\n",
    "        'min_samples_leaf': [3, 4, 5, 10],\n",
    "        'min_samples_split': [2, 3, 5, 10],\n",
    "        'n_estimators': [100, 200, 500, 1000]\n",
    "    }\n",
    "    \n",
    "    # Get optimized parameters from grid search\n",
    "    rf_clf = RandomForestClassifier()\n",
    "    optimized_rf_clf = get_best_estimator(rf_clf, param_grid)\n",
    "    optimized_rf_clf.fit(X_train, y_train)\n",
    "    \n",
    "    # predict recipient gender and print prediction results\n",
    "    y_pred = optimized_rf_clf.predict(X_test)\n",
    "    print_results(optimized_rf_clf, y_pred)  "
   ]
  },
  {
   "cell_type": "code",
   "execution_count": 12,
   "id": "alien-arlington",
   "metadata": {},
   "outputs": [],
   "source": [
    "def mlp():\n",
    "    # Parameters to optimize for rf\n",
    "    param_grid = {\n",
    "        'hidden_layer_sizes': [(50,50,50), (50,100,50), (100,)],\n",
    "        'activation': ['tanh', 'relu'],\n",
    "        'solver': ['sgd', 'adam'],\n",
    "        'alpha': [0.0001, 0.05],\n",
    "        'learning_rate': ['constant','adaptive'],\n",
    "        'max_iter': [200]\n",
    "    }\n",
    "    \n",
    "    # Get optimized parameters from grid search\n",
    "    mlp_clf = MLPClassifier()\n",
    "    optimized_mlp_clf = get_best_estimator(mlp_clf, param_grid)\n",
    "    optimized_mlp_clf.fit(X_train, y_train)\n",
    "    \n",
    "    # predict recipient gender and print prediction results\n",
    "    y_pred = optimized_mlp_clf.predict(X_test)\n",
    "    print_results(optimized_mlp_clf, y_pred) "
   ]
  },
  {
   "cell_type": "code",
   "execution_count": 15,
   "id": "understanding-princeton",
   "metadata": {
    "scrolled": false
   },
   "outputs": [
    {
     "name": "stdout",
     "output_type": "stream",
     "text": [
      "Fitting 10 folds for each of 84 candidates, totalling 840 fits\n",
      "SVC(C=10, gamma=0.1, probability=True)\n",
      "Accuracy Score ->  53.69458128078818\n",
      "              precision    recall  f1-score   support\n",
      "\n",
      "         0.0       0.46      0.35      0.40       331\n",
      "         1.0       0.47      0.46      0.47       376\n",
      "         2.0       0.61      0.72      0.66       511\n",
      "\n",
      "    accuracy                           0.54      1218\n",
      "   macro avg       0.51      0.51      0.51      1218\n",
      "weighted avg       0.53      0.54      0.53      1218\n",
      "\n",
      "Mean cv accuracy:  0.5082124410509768\n",
      "Mean cv f1_macro:  0.48120617781168534\n"
     ]
    },
    {
     "data": {
      "image/png": "[encoded data removed]",
      "text/plain": [
       "<Figure size 432x288 with 2 Axes>"
      ]
     },
     "metadata": {
      "needs_background": "light"
     },
     "output_type": "display_data"
    }
   ],
   "source": [
    "svm()"
   ]
  },
  {
   "cell_type": "code",
   "execution_count": 16,
   "id": "important-nitrogen",
   "metadata": {
    "scrolled": true
   },
   "outputs": [
    {
     "name": "stdout",
     "output_type": "stream",
     "text": [
      "Fitting 10 folds for each of 256 candidates, totalling 2560 fits\n",
      "RandomForestClassifier(max_depth=50, min_samples_leaf=3, min_samples_split=3)\n",
      "Accuracy Score ->  51.88834154351396\n",
      "              precision    recall  f1-score   support\n",
      "\n",
      "         0.0       0.52      0.11      0.18       331\n",
      "         1.0       0.46      0.43      0.45       376\n",
      "         2.0       0.55      0.85      0.66       511\n",
      "\n",
      "    accuracy                           0.52      1218\n",
      "   macro avg       0.51      0.46      0.43      1218\n",
      "weighted avg       0.51      0.52      0.46      1218\n",
      "\n",
      "Mean cv accuracy:  0.4895987723632008\n",
      "Mean cv f1_macro:  0.40405487961134323\n"
     ]
    },
    {
     "data": {
      "image/png": "[encoded data removed]",
      "text/plain": [
       "<Figure size 432x288 with 2 Axes>"
      ]
     },
     "metadata": {
      "needs_background": "light"
     },
     "output_type": "display_data"
    }
   ],
   "source": [
    "random_forest()"
   ]
  },
  {
   "cell_type": "code",
   "execution_count": 17,
   "id": "oriental-enough",
   "metadata": {},
   "outputs": [
    {
     "name": "stdout",
     "output_type": "stream",
     "text": [
      "Fitting 10 folds for each of 48 candidates, totalling 480 fits\n",
      "MLPClassifier(alpha=0.05, hidden_layer_sizes=(50, 100, 50))\n",
      "Accuracy Score ->  46.71592775041051\n",
      "              precision    recall  f1-score   support\n",
      "\n",
      "         0.0       0.35      0.37      0.36       331\n",
      "         1.0       0.42      0.34      0.37       376\n",
      "         2.0       0.56      0.63      0.59       511\n",
      "\n",
      "    accuracy                           0.47      1218\n",
      "   macro avg       0.44      0.44      0.44      1218\n",
      "weighted avg       0.46      0.47      0.46      1218\n",
      "\n",
      "Mean cv accuracy:  0.4674257055168801\n",
      "Mean cv f1_macro:  0.4595444254652768\n"
     ]
    },
    {
     "data": {
      "image/png": "[encoded data removed]",
      "text/plain": [
       "<Figure size 432x288 with 2 Axes>"
      ]
     },
     "metadata": {
      "needs_background": "light"
     },
     "output_type": "display_data"
    }
   ],
   "source": [
    "mlp()"
   ]
  },
  {
   "cell_type": "code",
   "execution_count": null,
   "id": "impaired-senate",
   "metadata": {},
   "outputs": [],
   "source": []
  }
 ],
 "metadata": {
  "kernelspec": {
   "display_name": "Python 3",
   "language": "python",
   "name": "python3"
  },
  "language_info": {
   "codemirror_mode": {
    "name": "ipython",
    "version": 3
   },
   "file_extension": ".py",
   "mimetype": "text/x-python",
   "name": "python",
   "nbconvert_exporter": "python",
   "pygments_lexer": "ipython3",
   "version": "3.8.5"
  }
 },
 "nbformat": 4,
 "nbformat_minor": 5
}
