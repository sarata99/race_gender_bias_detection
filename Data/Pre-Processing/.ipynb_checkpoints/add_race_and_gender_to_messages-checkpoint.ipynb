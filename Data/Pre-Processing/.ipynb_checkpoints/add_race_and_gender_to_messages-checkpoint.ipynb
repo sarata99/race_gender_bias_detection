{
 "cells": [
  {
   "cell_type": "code",
   "execution_count": 31,
   "id": "concerned-steam",
   "metadata": {},
   "outputs": [],
   "source": [
    "import pandas as pd\n",
    "import numpy as np\n",
    "import os"
   ]
  },
  {
   "cell_type": "code",
   "execution_count": 41,
   "id": "introductory-isaac",
   "metadata": {},
   "outputs": [],
   "source": [
    "# Get project paths\n",
    "project_root = os.path.dirname(os.getcwd())\n",
    "\n",
    "fall_18_data_path = project_root + '/Fall_2018/'\n",
    "fall_19_data_path = project_root + '/Fall_2019/'\n",
    "pre_processing_path = project_root + '/Pre-Processing/'"
   ]
  },
  {
   "cell_type": "code",
   "execution_count": 42,
   "id": "injured-assist",
   "metadata": {},
   "outputs": [
    {
     "name": "stdout",
     "output_type": "stream",
     "text": [
      "FALL 2018:\n",
      "    User#    UserID    Group#  \\\n",
      "0      6  42683026  44081449   \n",
      "1      0  25501571  44081449   \n",
      "2      6  42683026  44081449   \n",
      "3      0  25501571  44081449   \n",
      "4      0  25501571  44081449   \n",
      "\n",
      "                                                Text            Timestamp  \n",
      "0  Hey @Katie Poteet I know you said we should em...  2018-09-17 19:20:59  \n",
      "1  @Mary Cassell I would email Dr. K anyway with ...  2018-09-17 19:22:12  \n",
      "2  Ok, thanks a lot. I have the email typed but w...  2018-09-17 19:24:07  \n",
      "3                     Upstairs from our lecture hall  2018-09-17 20:59:57  \n",
      "4                                     Sherman 207!!!  2018-09-17 20:59:59  \n",
      "FALL 2019:\n",
      "    User#    UserID    Group#  \\\n",
      "0      2  74779648  52791846   \n",
      "1      5  29836867  52791846   \n",
      "2      1  44467665  52791846   \n",
      "3      1  44467665  52791846   \n",
      "4      1  44467665  52791846   \n",
      "\n",
      "                                                Text            Timestamp  \n",
      "0  Hey where can I find the essays to comment on ...  2019-09-20 01:41:53  \n",
      "1                  Retweet I can’t find them at all   2019-09-20 04:40:01  \n",
      "2                        Oh I didn’t see this whoops  2019-09-20 12:18:03  \n",
      "3  There’s a thing near the bottom of the left ha...  2019-09-20 12:18:17  \n",
      "4  It should have the group name and when you cli...  2019-09-20 12:18:51  \n"
     ]
    }
   ],
   "source": [
    "# Read messages data from fall 2018 and fall 2019\n",
    "df_fall_18_messages = pd.read_excel(pre_processing_path + 'FA18_all_messages.xlsx', index_col=0)\n",
    "df_fall_19_messages = pd.read_excel(pre_processing_path + 'FA19_all_messages.xlsx', index_col=0)\n",
    "print(\"FALL 2018:\\n\", df_fall_18_messages.head())\n",
    "print(\"FALL 2019:\\n\", df_fall_19_messages.head())"
   ]
  },
  {
   "cell_type": "code",
   "execution_count": 43,
   "id": "dressed-finding",
   "metadata": {},
   "outputs": [
    {
     "name": "stdout",
     "output_type": "stream",
     "text": [
      "FALL 2018:\n",
      "                       User ID\n",
      "Last Name + Initial          \n",
      "Abiog T.             36071565\n",
      "Akanoh S.            52309964\n",
      "Allman M.            63282225\n",
      "Anderson C.          21708768\n",
      "Andre C.             32072158\n",
      "FALL 2019:\n",
      "                    Name\n",
      "User ID                \n",
      "73598857   Frampton, R.\n",
      "35809612  Slaughter, C.\n",
      "74600149    Karanja, E.\n",
      "72761543      Qamar, B.\n",
      "41840220         Fu, A.\n"
     ]
    }
   ],
   "source": [
    "# Read user-id-to-name files \n",
    "df_fall_18_users_and_ids = pd.read_excel(pre_processing_path + 'FA18_users_and_ids.xlsx', index_col=0)\n",
    "df_fall_19_users_and_ids = pd.read_excel(pre_processing_path + 'FA19_users_and_ids.xlsx', index_col=0)\n",
    "print(\"FALL 2018:\\n\",df_fall_18_users_and_ids.head())\n",
    "print(\"FALL 2019:\\n\",df_fall_19_users_and_ids.head())"
   ]
  },
  {
   "cell_type": "code",
   "execution_count": 88,
   "id": "instrumental-source",
   "metadata": {},
   "outputs": [
    {
     "name": "stdout",
     "output_type": "stream",
     "text": [
      "FALL 2018:\n",
      "           Last Name First Name Last Name + Initial Gender   Race    Major\n",
      "Team                                                                     \n",
      "Isochrone     Abiog  Theo Karl            Abiog T.      M  ASIAN  PCHE BS\n",
      "Mercury      Akanoh  Stephanie           Akanoh S.      F  BLACK  BIOL BS\n",
      "Zodiac       Allman    Michael           Allman M.      M  WHITE   GES BS\n",
      "Sirius     Anderson    Cameron         Anderson C.      F  BLACK  CHEM BS\n",
      "Milky Way     Andre      Chase            Andre C.      M  WHITE  BIOL BS\n",
      "FALL 2019:\n",
      "           Last Name First Name Gender  Race            Major\n",
      "Team                                                        \n",
      "Nutmeg  Christenson        Sam      F   NaN             BIOC\n",
      "Nutmeg     Courduff      Allie      F   NaN          BIOL BS\n",
      "Nutmeg         Imam     Danyah      F   NaN  BIOL BS/PSYC BS\n",
      "Nutmeg          Lee     Joseph      M   NaN     MATH BS/PCMS\n",
      "Nutmeg  Majekodunmi       Tobi      M   NaN        PHYS/PMEE\n"
     ]
    }
   ],
   "source": [
    "# Read student information files to obtain race and gender information\n",
    "df_fall_18_student_info = pd.read_excel(pre_processing_path + 'FA18_student_information.xlsx', index_col=0)\n",
    "df_fall_19_student_info = pd.read_excel(pre_processing_path + 'FA19_student_information.xlsx', index_col=0)\n",
    "print(\"FALL 2018:\\n\",df_fall_18_student_info.head())\n",
    "print(\"FALL 2019:\\n\",df_fall_19_student_info.head())"
   ]
  },
  {
   "cell_type": "code",
   "execution_count": 89,
   "id": "accompanied-impression",
   "metadata": {},
   "outputs": [],
   "source": [
    "merged_id_race_gender = pd.merge(left=df_fall_18_users_and_ids, right=df_fall_18_student_info, how='left', left_on='Last Name + Initial', right_on='Last Name + Initial')"
   ]
  },
  {
   "cell_type": "code",
   "execution_count": 90,
   "id": "moral-story",
   "metadata": {},
   "outputs": [],
   "source": [
    "merged_id_race_gender.to_excel(pre_processing_path + \"FA18_merged_id_race_gender.xlsx\")  "
   ]
  },
  {
   "cell_type": "code",
   "execution_count": 91,
   "id": "artistic-locator",
   "metadata": {},
   "outputs": [],
   "source": [
    "# Read corrected file (added race and gender of known team leaders, hence corrected some unknowns)\n",
    "df_fall_18_id_race_gender = pd.read_excel(pre_processing_path + \"FA18_corrected_merged_id_race_gender.xlsx\")"
   ]
  },
  {
   "cell_type": "code",
   "execution_count": 93,
   "id": "recorded-mapping",
   "metadata": {
    "scrolled": true
   },
   "outputs": [],
   "source": [
    "df_messages_labeled_FA18 = pd.DataFrame()\n",
    "\n",
    "# Create dictionary to match user_id to race and gender\n",
    "race_dictionary = dict(zip(df_fall_18_id_race_gender['User ID'].astype('int').values, df_fall_18_id_race_gender['Race']))\n",
    "gender_dictionary = dict(zip(df_fall_18_id_race_gender['User ID'].astype('int'), df_fall_18_id_race_gender['Gender']))\n",
    "\n",
    "race = []\n",
    "gender = []\n",
    "\n",
    "# Create columns for race and gender\n",
    "for i in range(len(df_fall_18_messages[\"Text\"])):\n",
    "    if (df_fall_18_messages[\"UserID\"][i] != \"calendar\"):\n",
    "        user_id = int(df_fall_18_messages[\"UserID\"][i])\n",
    "        if user_id in race_dictionary.keys():\n",
    "            race.append(race_dictionary[user_id])\n",
    "        else:\n",
    "            race.append(\"Unknown\")\n",
    "        if user_id in gender_dictionary.keys():\n",
    "            gender.append(gender_dictionary[user_id])\n",
    "        else:\n",
    "            gender.append(\"Unknown\")\n",
    "    else:\n",
    "        race.append(\"Unknown\")\n",
    "        gender.append(\"Unknown\")\n",
    "\n",
    "# append user id, sender race, sender gender, and text columns to dataframe, export to excel\n",
    "df_messages_labeled_FA18[\"User ID\"] = df_fall_18_messages['UserID']\n",
    "df_messages_labeled_FA18[\"Race\"] = pd.DataFrame(race)\n",
    "df_messages_labeled_FA18[\"Gender\"] = pd.DataFrame(gender)\n",
    "df_messages_labeled_FA18[\"Text\"] = df_fall_18_messages[\"Text\"]\n",
    "df_messages_labeled_FA18.to_excel(fall_18_data_path + \"messages_with_race_gender_FA18.xlsx\")"
   ]
  }
 ],
 "metadata": {
  "kernelspec": {
   "display_name": "Python 3",
   "language": "python",
   "name": "python3"
  },
  "language_info": {
   "codemirror_mode": {
    "name": "ipython",
    "version": 3
   },
   "file_extension": ".py",
   "mimetype": "text/x-python",
   "name": "python",
   "nbconvert_exporter": "python",
   "pygments_lexer": "ipython3",
   "version": "3.8.5"
  }
 },
 "nbformat": 4,
 "nbformat_minor": 5
}
